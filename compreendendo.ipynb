{
 "cells": [
  {
   "cell_type": "code",
   "execution_count": 1,
   "metadata": {},
   "outputs": [],
   "source": [
    "# Entendendo um pouco sobre NLP (Processamento de Linguagem Natural)\n",
    "\n",
    "## Entendimento da linguagem\n",
    "\n",
    "# Morfologia - Entendimento da estrutura da palavra e a informação da palavra\n",
    "# Exemplos -> ferr, de ferro, ferreiro, ferragem...\n",
    "\n",
    "# Nível léxico - Entendimento de onde a palavra está alocada e de qual área de conhecimento ela é\n",
    "# Exemplos -> campo lexical de trabalho: Trabalhador, trabalhar, salário, equipe, patrão\n",
    "\n",
    "# Nível sintático - Entendimento da análise sintática da ordem das palavras em uma sentença\n",
    "# Exempelo -> sujeito, predicado, objetos direto e indireto, adjunto adverbial, etc...\n",
    "\n",
    "# Nível semântico - Entedimento do significado da palavra na sentença, além do nível que está escrito\n",
    "# Exemplos -> \"Que nota você me daria?\", \"Aquela boneca custou uma nota preta\".\n",
    " \n",
    "# Nível pragmático - Conhecimento do uso real e da compreensão total da sentença.\n",
    "\n"
   ]
  }
 ],
 "metadata": {
  "interpreter": {
   "hash": "47ed0a5b87f1856e97f17f798505152c749d3438bb699badee266ed7647f093c"
  },
  "kernelspec": {
   "display_name": "Python 3.6.1 64-bit ('base': conda)",
   "language": "python",
   "name": "python3"
  },
  "language_info": {
   "codemirror_mode": {
    "name": "ipython",
    "version": 3
   },
   "file_extension": ".py",
   "mimetype": "text/x-python",
   "name": "python",
   "nbconvert_exporter": "python",
   "pygments_lexer": "ipython3",
   "version": "3.6.1"
  },
  "orig_nbformat": 4
 },
 "nbformat": 4,
 "nbformat_minor": 2
}
