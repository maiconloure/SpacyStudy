{
 "cells": [
  {
   "cell_type": "code",
   "execution_count": 1,
   "metadata": {},
   "outputs": [],
   "source": [
    "# Diferença entre lemmatização e stemming\n",
    "import  spacy\n",
    "nlp = spacy.load(\"pt_core_news_md\")"
   ]
  },
  {
   "cell_type": "code",
   "execution_count": 2,
   "metadata": {},
   "outputs": [],
   "source": [
    "text = \"Pedrao viajou usando de aviação para se locomover até Santos para louvar os santos.\"\n",
    "doc = nlp(text)"
   ]
  },
  {
   "cell_type": "code",
   "execution_count": 3,
   "metadata": {},
   "outputs": [],
   "source": [
    "import nltk\n",
    "stemmer = nltk.stem.RSLPStemmer()"
   ]
  },
  {
   "cell_type": "code",
   "execution_count": 4,
   "metadata": {},
   "outputs": [
    {
     "name": "stdout",
     "output_type": "stream",
     "text": [
      "Pedrao | Pedrao | pedra\n",
      "viajou | viajar | viaj\n",
      "usando | usar | us\n",
      "de | de | de\n",
      "aviação | aviação | avi\n",
      "para | parir | par\n",
      "se | se | se\n",
      "locomover | locomover | locomov\n",
      "até | até | até\n",
      "Santos | Santos | sant\n",
      "para | parir | par\n",
      "louvar | louvar | louv\n",
      "os | o | os\n",
      "santos | santo | sant\n",
      ". | . | .\n"
     ]
    }
   ],
   "source": [
    "for token in doc:\n",
    "  print(token.text, \"|\", token.lemma_, \"|\", stemmer.stem(token.text))"
   ]
  }
 ],
 "metadata": {
  "interpreter": {
   "hash": "f1013006322a2339181c9f88d62f6a364bb1a779c7164bb035fe320876d0a330"
  },
  "kernelspec": {
   "display_name": "Python 3.9.7 64-bit ('base': conda)",
   "language": "python",
   "name": "python3"
  },
  "language_info": {
   "codemirror_mode": {
    "name": "ipython",
    "version": 3
   },
   "file_extension": ".py",
   "mimetype": "text/x-python",
   "name": "python",
   "nbconvert_exporter": "python",
   "pygments_lexer": "ipython3",
   "version": "3.9.7"
  },
  "orig_nbformat": 4
 },
 "nbformat": 4,
 "nbformat_minor": 2
}
